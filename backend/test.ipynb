{
 "cells": [
  {
   "cell_type": "code",
   "execution_count": 8,
   "id": "8da06321",
   "metadata": {},
   "outputs": [],
   "source": [
    "import cv2\n",
    "from PIL import Image\n",
    "from transformers import pipeline"
   ]
  },
  {
   "cell_type": "code",
   "execution_count": 9,
   "id": "adb81dd7",
   "metadata": {},
   "outputs": [
    {
     "name": "stderr",
     "output_type": "stream",
     "text": [
      "Fetching 1 files: 100%|██████████| 1/1 [00:00<00:00, 12985.46it/s]\n",
      "Device set to use mps:0\n"
     ]
    }
   ],
   "source": [
    "pipe = pipeline(\"image-classification\", model=\"prithivMLmods/Deep-Fake-Detector-v2-Model\")"
   ]
  },
  {
   "cell_type": "code",
   "execution_count": 10,
   "id": "63efc520",
   "metadata": {},
   "outputs": [],
   "source": [
    "def extract_frames(video_path, frame_rate=30):\n",
    "    cap = cv2.VideoCapture(video_path)\n",
    "    frames = []\n",
    "    count = 0\n",
    "    while cap.isOpened():\n",
    "        ret, frame = cap.read()\n",
    "        if not ret:\n",
    "            break\n",
    "        if count % frame_rate == 0:\n",
    "            frames.append(frame)\n",
    "        count += 1\n",
    "    cap.release()\n",
    "    return frames"
   ]
  },
  {
   "cell_type": "code",
   "execution_count": 11,
   "id": "0a68bb69",
   "metadata": {},
   "outputs": [],
   "source": [
    "video_path = \"videos/trump.mp4\"\n",
    "frames = extract_frames(video_path)"
   ]
  },
  {
   "cell_type": "code",
   "execution_count": 12,
   "id": "11ea3431",
   "metadata": {},
   "outputs": [
    {
     "name": "stdout",
     "output_type": "stream",
     "text": [
      "Frame 0: [{'label': 'Deepfake', 'score': 0.7978485226631165}, {'label': 'Realism', 'score': 0.20215149223804474}]\n",
      "Frame 1: [{'label': 'Deepfake', 'score': 0.7944616675376892}, {'label': 'Realism', 'score': 0.20553827285766602}]\n",
      "Frame 2: [{'label': 'Deepfake', 'score': 0.7968562841415405}, {'label': 'Realism', 'score': 0.20314374566078186}]\n",
      "Frame 3: [{'label': 'Deepfake', 'score': 0.7944954037666321}, {'label': 'Realism', 'score': 0.2055046111345291}]\n",
      "Frame 4: [{'label': 'Deepfake', 'score': 0.8236129879951477}, {'label': 'Realism', 'score': 0.1763869822025299}]\n"
     ]
    }
   ],
   "source": [
    "for i, frame in enumerate(frames[:5]):\n",
    "    frame_rgb = cv2.cvtColor(frame, cv2.COLOR_BGR2RGB)\n",
    "    pil_img = Image.fromarray(frame_rgb)\n",
    "    result = pipe(pil_img)\n",
    "    print(f\"Frame {i}:\", result)"
   ]
  }
 ],
 "metadata": {
  "kernelspec": {
   "display_name": "env",
   "language": "python",
   "name": "python3"
  },
  "language_info": {
   "codemirror_mode": {
    "name": "ipython",
    "version": 3
   },
   "file_extension": ".py",
   "mimetype": "text/x-python",
   "name": "python",
   "nbconvert_exporter": "python",
   "pygments_lexer": "ipython3",
   "version": "3.12.5"
  }
 },
 "nbformat": 4,
 "nbformat_minor": 5
}
